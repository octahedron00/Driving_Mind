{
 "cells": [
  {
   "cell_type": "markdown",
   "metadata": {},
   "source": [
    "# Welcome to the Mind!:\n",
    "\n",
    "work with python 3.8 or upper, and ultralytics"
   ]
  },
  {
   "cell_type": "code",
   "execution_count": null,
   "metadata": {},
   "outputs": [],
   "source": [
    "print(\"Hello, World!\")"
   ]
  },
  {
   "cell_type": "markdown",
   "metadata": {},
   "source": [
    "## Bot_Mind: initiating with jupyter notebook!"
   ]
  },
  {
   "cell_type": "code",
   "execution_count": null,
   "metadata": {},
   "outputs": [],
   "source": [
    "import cv2\n",
    "\n",
    "\n",
    "from IPython.display import display, Image\n",
    "\n",
    "\n",
    "from mind_bot import Bot_Mind, showing_off\n",
    "from mind_control import Control_Mind\n",
    "\n",
    "\n",
    "DISPLAY = display(None, display_id=True)\n",
    "\n",
    "def showing_off_in_notebook(image_list, log=\"\"):\n",
    "    canvas = showing_off(image_list, log, get_image=True)\n",
    "\n",
    "    _, canvas_jpeg = cv2.imencode('.jpeg', canvas)\n",
    "    DISPLAY.update(Image(data=canvas_jpeg.tobytes()))\n",
    "    return canvas\n",
    "\n",
    "\n",
    "\n",
    "Bot_Mind(show_function=showing_off_in_notebook)\n",
    "\n"
   ]
  },
  {
   "cell_type": "markdown",
   "metadata": {},
   "source": [
    "## Control_Mind: Control the robot with wasd keys! / image capture: c / new naming rule: n"
   ]
  },
  {
   "cell_type": "code",
   "execution_count": null,
   "metadata": {},
   "outputs": [],
   "source": [
    "import cv2\n",
    "\n",
    "import keyboard\n",
    "\n",
    "from IPython.display import display, Image\n",
    "\n",
    "\n",
    "from mind_bot import Bot_Mind, showing_off\n",
    "from mind_control import Control_Mind\n",
    "\n",
    "\n",
    "\n",
    "\n",
    "DISPLAY = display(None, display_id=True)\n",
    "\n",
    "def showing_off_in_notebook(image_list, log=\"\"):\n",
    "    canvas = showing_off(image_list, log, get_image=True)\n",
    "\n",
    "    _, canvas_jpeg = cv2.imencode('.jpeg', canvas)\n",
    "    DISPLAY.update(Image(data=canvas_jpeg.tobytes()))\n",
    "    return canvas\n",
    "\n",
    "\n",
    "\n",
    "Control_Mind(show_function=showing_off_in_notebook, keyboard_listener=keyboard)\n"
   ]
  }
 ],
 "metadata": {
  "kernelspec": {
   "display_name": "Python 3",
   "language": "python",
   "name": "python3"
  },
  "language_info": {
   "codemirror_mode": {
    "name": "ipython",
    "version": 3
   },
   "file_extension": ".py",
   "mimetype": "text/x-python",
   "name": "python",
   "nbconvert_exporter": "python",
   "pygments_lexer": "ipython3",
   "version": "3.12.6"
  }
 },
 "nbformat": 4,
 "nbformat_minor": 2
}
